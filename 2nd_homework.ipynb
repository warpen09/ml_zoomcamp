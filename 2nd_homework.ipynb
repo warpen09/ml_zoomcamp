{
 "cells": [
  {
   "cell_type": "code",
   "execution_count": 1,
   "id": "a05b6faa-b3cf-4056-85f3-02d2218f6310",
   "metadata": {},
   "outputs": [],
   "source": [
    "import os\n",
    "import pandas as pd\n",
    "import numpy as np\n",
    "import seaborn as sns\n",
    "from matplotlib import pyplot as plt\n",
    "%matplotlib inline"
   ]
  },
  {
   "cell_type": "markdown",
   "id": "ea117a9f-4251-4f1a-9c0c-ade9dbf333f4",
   "metadata": {},
   "source": [
    "### Setting up the dataframe ###\n",
    "Keeping the records where 'ocean_proximity' is '<1H OCEAN' or 'INLAND'\n",
    "and using only the subset with the columns \n",
    "\n",
    "\n",
    "'latitude', <br>\n",
    "'longitude', <br>\n",
    "'housing_median_age', <br>\n",
    "'total_rooms', <br>\n",
    "'total_bedrooms', <br>\n",
    "'population', <br>\n",
    "'households', <br>\n",
    "'median_income', <br>\n",
    "'median_house_value' <br>"
   ]
  },
  {
   "cell_type": "code",
   "execution_count": 47,
   "id": "d5b0b754-e010-41c6-a620-a555e9cd6f41",
   "metadata": {},
   "outputs": [],
   "source": [
    "housing_df = pd.read_csv(\"../data/housing_1.csv\")"
   ]
  },
  {
   "cell_type": "code",
   "execution_count": 48,
   "id": "fc947670-c68d-41ad-9c79-c0c7d5725b54",
   "metadata": {},
   "outputs": [],
   "source": [
    "filter_housing_df = housing_df[['latitude', \n",
    "'longitude', \n",
    "'housing_median_age', \n",
    "'total_rooms', \n",
    "'total_bedrooms', \n",
    "'population', \n",
    "'households', \n",
    "'median_income', \n",
    "'median_house_value']][(housing_df['ocean_proximity'] == 'ISLAND') | (housing_df['ocean_proximity'] == '<1H OCEAN')]"
   ]
  },
  {
   "cell_type": "markdown",
   "id": "3b60d7af-17ef-469e-a473-06e6e1635a38",
   "metadata": {},
   "source": [
    "## Question 1 ##\n",
    "### Find the feature that has missing values ###"
   ]
  },
  {
   "cell_type": "code",
   "execution_count": 49,
   "id": "70b9dd91-cacd-41df-b1ea-27850c7e1d99",
   "metadata": {},
   "outputs": [
    {
     "data": {
      "text/plain": [
       "'total_bedrooms'"
      ]
     },
     "execution_count": 49,
     "metadata": {},
     "output_type": "execute_result"
    }
   ],
   "source": [
    "filter_housing_df.columns[filter_housing_df.isna().any()][0]"
   ]
  },
  {
   "cell_type": "markdown",
   "id": "99994a37-9845-4b1a-baca-8822a22547f7",
   "metadata": {},
   "source": [
    "## Question 2 ##\n",
    "\n",
    "### What's the median (50% percentile) for variable 'population'? ###"
   ]
  },
  {
   "cell_type": "code",
   "execution_count": 52,
   "id": "4be73154-b1ec-478b-8905-62747cb8f88c",
   "metadata": {},
   "outputs": [
    {
     "data": {
      "text/plain": [
       "1247.0"
      ]
     },
     "execution_count": 52,
     "metadata": {},
     "output_type": "execute_result"
    }
   ],
   "source": [
    "filter_housing_df['population'].median(axis=0, skipna=True)"
   ]
  },
  {
   "cell_type": "code",
   "execution_count": 61,
   "id": "fd12f120-8f64-4ed1-83b0-de69ea6e46b7",
   "metadata": {},
   "outputs": [
    {
     "data": {
      "text/plain": [
       "1247.0"
      ]
     },
     "execution_count": 61,
     "metadata": {},
     "output_type": "execute_result"
    }
   ],
   "source": [
    "filter_housing_df['population'].quantile(0.5)"
   ]
  },
  {
   "cell_type": "markdown",
   "id": "3a16f174-196d-4f1a-928a-41ea2820362c",
   "metadata": {},
   "source": [
    "## Prepare and split the dataset ##\n",
    "\n",
    "Shuffle the dataset (the filtered one you created above), use seed 42. <br>\n",
    "Split your data in train/val/test sets, with 60%/20%/20% distribution. <br>\n",
    "Apply the log transformation to the median_house_value variable using the np.log1p() function."
   ]
  },
  {
   "cell_type": "code",
   "execution_count": 62,
   "id": "b7dbb9de-f254-4cbf-8f83-9c8d5a5d9030",
   "metadata": {},
   "outputs": [],
   "source": [
    "number_in_dataset = len(filter_housing_df)"
   ]
  },
  {
   "cell_type": "code",
   "execution_count": 123,
   "id": "2b0bc3c3-aee6-4008-be34-306d979ac225",
   "metadata": {},
   "outputs": [],
   "source": [
    "number_in_dataset_validation = int(0.2 * number_in_dataset)\n",
    "number_in_dataset_test = int(0.2 * number_in_dataset)\n",
    "number_in_dataset_train = number_in_dataset - number_in_dataset_validation - number_in_dataset_test"
   ]
  },
  {
   "cell_type": "code",
   "execution_count": 124,
   "id": "207ddc92-e300-41c5-acf6-0aeb80758e0a",
   "metadata": {},
   "outputs": [],
   "source": [
    "np.random.seed(42)"
   ]
  },
  {
   "cell_type": "code",
   "execution_count": 125,
   "id": "a42150b8-4fac-4b1a-ba74-d4d151a90195",
   "metadata": {},
   "outputs": [],
   "source": [
    "id_shuffle = np.arange(number_in_dataset)\n",
    "np.random.shuffle(id_shuffle)\n",
    "filter_housing_df_shuffle = filter_housing_df.iloc[id_shuffle]"
   ]
  },
  {
   "cell_type": "code",
   "execution_count": 126,
   "id": "1efa2cae-3eb0-4222-a183-18d12fc9e828",
   "metadata": {},
   "outputs": [],
   "source": [
    "df_train = filter_housing_df_shuffle.iloc[:number_in_dataset_train].copy()\n",
    "df_validation = filter_housing_df_shuffle.iloc[number_in_dataset_train:number_in_dataset_train+number_in_dataset_validation].copy()\n",
    "df_test = filter_housing_df_shuffle.iloc[number_in_dataset_train+number_in_dataset_validation:].copy()"
   ]
  },
  {
   "cell_type": "code",
   "execution_count": 127,
   "id": "fd4d1284-9967-4145-8105-199086001e54",
   "metadata": {},
   "outputs": [],
   "source": [
    "log_median_house_value = np.log1p(filter_housing_df['median_house_value'].values)"
   ]
  },
  {
   "cell_type": "code",
   "execution_count": 128,
   "id": "885d67c2-3f50-4d75-af61-d29f1c5aaee8",
   "metadata": {},
   "outputs": [
    {
     "name": "stderr",
     "output_type": "stream",
     "text": [
      "/Volumes/_Data/School_Folder/machine_learning_zoomcamp/ml_zoom/lib/python3.11/site-packages/seaborn/_oldcore.py:1498: FutureWarning: is_categorical_dtype is deprecated and will be removed in a future version. Use isinstance(dtype, CategoricalDtype) instead\n",
      "  if pd.api.types.is_categorical_dtype(vector):\n",
      "/Volumes/_Data/School_Folder/machine_learning_zoomcamp/ml_zoom/lib/python3.11/site-packages/seaborn/_oldcore.py:1119: FutureWarning: use_inf_as_na option is deprecated and will be removed in a future version. Convert inf values to NaN before operating instead.\n",
      "  with pd.option_context('mode.use_inf_as_na', True):\n"
     ]
    },
    {
     "data": {
      "text/plain": [
       "<Axes: ylabel='Count'>"
      ]
     },
     "execution_count": 128,
     "metadata": {},
     "output_type": "execute_result"
    },
    {
     "data": {
      "image/png": "[encoded data removed]",
      "text/plain": [
       "<Figure size 640x480 with 1 Axes>"
      ]
     },
     "metadata": {},
     "output_type": "display_data"
    }
   ],
   "source": [
    "sns.histplot(log_median_house_value)"
   ]
  },
  {
   "cell_type": "code",
   "execution_count": 129,
   "id": "f1010203-61a0-4f5d-9a7e-4693194b7ad6",
   "metadata": {},
   "outputs": [],
   "source": [
    "y_train = np.log1p(df_train['median_house_value'].values)\n",
    "y_validation = np.log1p(df_validation['median_house_value'].values)\n",
    "y_test = np.log1p(df_test['median_house_value'].values)"
   ]
  },
  {
   "cell_type": "markdown",
   "id": "499e2224-595b-4229-a776-65b4d1e467bd",
   "metadata": {},
   "source": [
    "## Question 3 ##\n",
    "\n",
    "### \n",
    "We need to deal with missing values for the column from Q1. <br>\n",
    "We have two options: fill it with 0 or with the mean of this variable.<br>\n",
    "Try both options. For each, train a linear regression model without regularization using the code from the lessons.<br>\n",
    "For computing the mean, use the training only!<br>\n",
    "Use the validation dataset to evaluate the models and compare the RMSE of each option.<br>\n",
    "Round the RMSE scores to 2 decimal digits using round(score, 2)<br>\n",
    "Which option gives better RMSE?<br>\n",
    "###"
   ]
  },
  {
   "cell_type": "code",
   "execution_count": 82,
   "id": "2674b64a-dfd9-421d-98dc-84c4277b3d1f",
   "metadata": {},
   "outputs": [],
   "source": [
    "def linear_regression(xi):\n",
    "    n = len(xi)\n",
    "    pred = w0\n",
    "    for i in range(n):\n",
    "        pred = pred + w[i] * xi[i]\n",
    "\n",
    "    return pred"
   ]
  },
  {
   "cell_type": "markdown",
   "id": "197d3b73-e47b-4e1d-ab46-acf94765eaa4",
   "metadata": {},
   "source": [
    "### Create the training linear model ###"
   ]
  },
  {
   "cell_type": "code",
   "execution_count": 87,
   "id": "c449d37b-a1ac-4e96-9812-506e79cedfee",
   "metadata": {},
   "outputs": [],
   "source": [
    "def train_linear_regression(X, y):\n",
    "    ones = np.ones(X.shape[0])\n",
    "    X = np.column_stack([ones, X])\n",
    "    XTX = X.T.dot(X)\n",
    "    XTX_inv = np.linalg.inv(XTX)\n",
    "    w = XTX_inv.dot(X.T).dot(y)\n",
    "\n",
    "    return w[0], w[1:]"
   ]
  },
  {
   "cell_type": "code",
   "execution_count": 83,
   "id": "9610f9bf-3e31-408c-9b31-c5698aaf16a9",
   "metadata": {},
   "outputs": [],
   "source": [
    "def rmse(y, y_pred):\n",
    "    error = y_pred -y\n",
    "    mse = (error ** 2).mean()\n",
    "    return np.sqrt(mse)"
   ]
  },
  {
   "cell_type": "code",
   "execution_count": 89,
   "id": "dd35596a-1668-41df-be65-8e3fe79a9dd7",
   "metadata": {},
   "outputs": [],
   "source": [
    "base = filter_housing_df.columns"
   ]
  },
  {
   "cell_type": "code",
   "execution_count": 130,
   "id": "4183a9e5-1c49-444d-81a1-e5d65816d510",
   "metadata": {},
   "outputs": [],
   "source": [
    "df_num = df_train[base]"
   ]
  },
  {
   "cell_type": "code",
   "execution_count": 131,
   "id": "3dcd11ec-4a61-4d8d-930a-c16739fb3015",
   "metadata": {},
   "outputs": [],
   "source": [
    "df_num_filzero = df_num.fillna(0).copy()"
   ]
  },
  {
   "cell_type": "code",
   "execution_count": 132,
   "id": "8d2af68e-f947-462f-a18e-063c68062b32",
   "metadata": {},
   "outputs": [],
   "source": [
    "df_num_mean = df_num.fillna(df_train['total_bedrooms'].mean(axis=0, skipna=True)).copy()"
   ]
  },
  {
   "cell_type": "markdown",
   "id": "21272169-1544-40e0-a66f-5385a1b1e108",
   "metadata": {},
   "source": [
    "### Using the fill 0 ###"
   ]
  },
  {
   "cell_type": "code",
   "execution_count": 133,
   "id": "ae4f4863-4cc9-4208-b790-c37950d45c99",
   "metadata": {},
   "outputs": [],
   "source": [
    "X_filzero_tain = df_num_filzero.values"
   ]
  },
  {
   "cell_type": "code",
   "execution_count": 134,
   "id": "7722f152-0b74-48f2-8357-331cfd111c99",
   "metadata": {},
   "outputs": [],
   "source": [
    "w_0, w = train_linear_regression(X_filzero_tain, y_train)"
   ]
  },
  {
   "cell_type": "code",
   "execution_count": 135,
   "id": "016e1905-a4b7-437f-af16-98a2a630f092",
   "metadata": {},
   "outputs": [],
   "source": [
    "y_pred = w_0 + X_filzero_tain.dot(w)"
   ]
  },
  {
   "cell_type": "code",
   "execution_count": 136,
   "id": "90da149e-1782-43b4-a960-28f50f26f27d",
   "metadata": {},
   "outputs": [
    {
     "name": "stderr",
     "output_type": "stream",
     "text": [
      "/Volumes/_Data/School_Folder/machine_learning_zoomcamp/ml_zoom/lib/python3.11/site-packages/seaborn/_oldcore.py:1498: FutureWarning: is_categorical_dtype is deprecated and will be removed in a future version. Use isinstance(dtype, CategoricalDtype) instead\n",
      "  if pd.api.types.is_categorical_dtype(vector):\n",
      "/Volumes/_Data/School_Folder/machine_learning_zoomcamp/ml_zoom/lib/python3.11/site-packages/seaborn/_oldcore.py:1119: FutureWarning: use_inf_as_na option is deprecated and will be removed in a future version. Convert inf values to NaN before operating instead.\n",
      "  with pd.option_context('mode.use_inf_as_na', True):\n",
      "/Volumes/_Data/School_Folder/machine_learning_zoomcamp/ml_zoom/lib/python3.11/site-packages/seaborn/_oldcore.py:1498: FutureWarning: is_categorical_dtype is deprecated and will be removed in a future version. Use isinstance(dtype, CategoricalDtype) instead\n",
      "  if pd.api.types.is_categorical_dtype(vector):\n",
      "/Volumes/_Data/School_Folder/machine_learning_zoomcamp/ml_zoom/lib/python3.11/site-packages/seaborn/_oldcore.py:1119: FutureWarning: use_inf_as_na option is deprecated and will be removed in a future version. Convert inf values to NaN before operating instead.\n",
      "  with pd.option_context('mode.use_inf_as_na', True):\n"
     ]
    },
    {
     "data": {
      "text/plain": [
       "Text(0.5, 1.0, 'Fill missing values with 0')"
      ]
     },
     "execution_count": 136,
     "metadata": {},
     "output_type": "execute_result"
    },
    {
     "data": {
      "image/png": "[encoded data removed]",
      "text/plain": [
       "<Figure size 640x480 with 1 Axes>"
      ]
     },
     "metadata": {},
     "output_type": "display_data"
    }
   ],
   "source": [
    "sns.histplot(y_pred, label='prediction')\n",
    "sns.histplot(y_train, label='target')\n",
    "plt.legend()\n",
    "plt.title('Fill missing values with 0')"
   ]
  },
  {
   "cell_type": "code",
   "execution_count": 137,
   "id": "a3168f90-66f8-4974-ac22-17edff630b9d",
   "metadata": {},
   "outputs": [
    {
     "data": {
      "text/plain": [
       "0.10725644209943652"
      ]
     },
     "execution_count": 137,
     "metadata": {},
     "output_type": "execute_result"
    }
   ],
   "source": [
    "rmse(y_train, y_pred)"
   ]
  },
  {
   "cell_type": "markdown",
   "id": "401e693a-8ee0-4f0d-add5-6cf379411a4b",
   "metadata": {},
   "source": [
    "### Evaluating the model ###"
   ]
  },
  {
   "cell_type": "code",
   "execution_count": 138,
   "id": "95c636dd-9b41-49f1-886d-38ce6ece7589",
   "metadata": {},
   "outputs": [
    {
     "name": "stdout",
     "output_type": "stream",
     "text": [
      "validation for fill zero: 0.11\n"
     ]
    }
   ],
   "source": [
    "def prepare_X_filzero(df):\n",
    "    df_num = df[base]\n",
    "    df_num = df_num.fillna(0)\n",
    "    X = df_num.values\n",
    "    return X\n",
    "\n",
    "def prepare_X_filmean(df):\n",
    "    df_num = df[base]\n",
    "    df_num = df_num.fillna(df_train['total_bedrooms'].mean(axis=0, skipna=True))\n",
    "    X = df_num.values\n",
    "    return X\n",
    "\n",
    "X_train = prepare_X_filzero(df_train)\n",
    "w_0, w = train_linear_regression(X_train, y_train)\n",
    "\n",
    "X_val = prepare_X_filzero(df_validation)\n",
    "y_pred = w_0 + X_val.dot(w)\n",
    "print('validation for fill zero:', round(rmse(y_validation, y_pred),2))"
   ]
  },
  {
   "cell_type": "code",
   "execution_count": 139,
   "id": "aede8016-4df6-4da7-852d-cd2d653c2182",
   "metadata": {},
   "outputs": [
    {
     "name": "stdout",
     "output_type": "stream",
     "text": [
      "validation for fill mean: 0.11\n"
     ]
    }
   ],
   "source": [
    "\n",
    "X_val = prepare_X_filmean(df_validation)\n",
    "y_pred = w_0 + X_val.dot(w)\n",
    "print('validation for fill mean:', round(rmse(y_validation, y_pred),2))"
   ]
  },
  {
   "cell_type": "markdown",
   "id": "5ded19ac-acb9-4632-84af-9bac7b7bf112",
   "metadata": {},
   "source": [
    "## Question 4 ##\n",
    "\n",
    "Now let's train a regularized linear regression. <br>\n",
    "For this question, fill the NAs with 0.<br>\n",
    "Try different values of r from this list: [0, 0.000001, 0.0001, 0.001, 0.01, 0.1, 1, 5, 10].<br>\n",
    "Use RMSE to evaluate the model on the validation dataset.<br>\n",
    "Round the RMSE scores to 2 decimal digits.<br>\n",
    "Which r gives the best RMSE?<br>"
   ]
  },
  {
   "cell_type": "code",
   "execution_count": 119,
   "id": "9d7b6f34-3860-49a0-817c-c6798315eab8",
   "metadata": {},
   "outputs": [],
   "source": [
    "def train_linear_regression_reg(X, y, r=0.0):\n",
    "    ones = np.ones(X.shape[0])\n",
    "    X = np.column_stack([ones, X])\n",
    "\n",
    "    XTX = X.T.dot(X)\n",
    "    reg = r * np.eye(XTX.shape[0])\n",
    "    XTX = XTX + reg\n",
    "\n",
    "    XTX_inv = np.linalg.inv(XTX)\n",
    "    w = XTX_inv.dot(X.T).dot(y)\n",
    "\n",
    "    return w[0], w[1:]"
   ]
  },
  {
   "cell_type": "code",
   "execution_count": 140,
   "id": "252c8948-0a0d-42d3-9d64-427409f27e2a",
   "metadata": {},
   "outputs": [
    {
     "name": "stdout",
     "output_type": "stream",
     "text": [
      "validation for fill zero with r value 0: 0.10854305436367322\n",
      "validation for fill zero with r value 1e-06: 0.10854304702417772\n",
      "validation for fill zero with r value 0.0001: 0.10854233688360575\n",
      "validation for fill zero with r value 0.001: 0.10853725286645659\n",
      "validation for fill zero with r value 0.01: 0.10858729052883132\n",
      "validation for fill zero with r value 0.1: 0.11030098410744077\n",
      "validation for fill zero with r value 1: 0.11270743256096856\n",
      "validation for fill zero with r value 5: 0.11311902858665976\n",
      "validation for fill zero with r value 10: 0.11317047722932753\n"
     ]
    }
   ],
   "source": [
    "\n",
    "X_train = prepare_X_filzero(df_train)\n",
    "X_val = prepare_X_filzero(df_validation)\n",
    "r = [0, 0.000001, 0.0001, 0.001, 0.01, 0.1, 1, 5, 10]\n",
    "\n",
    "for i in r:\n",
    "    \n",
    "    w_0, w = train_linear_regression_reg(X_train, y_train, i)\n",
    "    y_pred = w_0 + X_val.dot(w)\n",
    "    print(f'validation for fill zero with r value {i}: {rmse(y_validation, y_pred)}' )"
   ]
  },
  {
   "cell_type": "markdown",
   "id": "40691709-aea5-4d68-b88d-a027e3d43ed8",
   "metadata": {},
   "source": [
    "## Question 5 ##\n",
    "\n",
    "We used seed 42 for splitting the data. Let's find out how selecting the seed influences our score.<br>\n",
    "Try different seed values: [0, 1, 2, 3, 4, 5, 6, 7, 8, 9].<br>\n",
    "For each seed, do the train/validation/test split with 60%/20%/20% distribution.<br>\n",
    "Fill the missing values with 0 and train a model without regularization.<br>\n",
    "For each seed, evaluate the model on the validation dataset and collect the RMSE scores.<br>\n",
    "What's the standard deviation of all the scores? To compute the standard deviation, use np.std.<br>\n",
    "Round the result to 3 decimal digits (round(std, 3))<br>"
   ]
  },
  {
   "cell_type": "code",
   "execution_count": 153,
   "id": "27c15804-0c05-4f4b-b86f-d9664b86d9bd",
   "metadata": {},
   "outputs": [
    {
     "name": "stdout",
     "output_type": "stream",
     "text": [
      "evaluation for seed 0: 0.1\n",
      "evaluation for seed 1: 0.11\n",
      "evaluation for seed 2: 0.11\n",
      "evaluation for seed 3: 0.11\n",
      "evaluation for seed 4: 0.11\n",
      "evaluation for seed 5: 0.11\n",
      "evaluation for seed 6: 0.11\n",
      "evaluation for seed 7: 0.11\n",
      "evaluation for seed 8: 0.11\n",
      "evaluation for seed 9: 0.1\n"
     ]
    }
   ],
   "source": [
    "seeds = [0, 1, 2, 3, 4, 5, 6, 7, 8, 9]\n",
    "scores = []\n",
    "for seed in seeds:\n",
    "    np.random.seed(seed)\n",
    "    id_shuffle = np.arange(number_in_dataset)\n",
    "    np.random.shuffle(id_shuffle)\n",
    "    filter_housing_df_shuffle = filter_housing_df.iloc[id_shuffle]\n",
    "    df_train = filter_housing_df_shuffle.iloc[:number_in_dataset_train].copy()\n",
    "    df_validation = filter_housing_df_shuffle.iloc[number_in_dataset_train:number_in_dataset_train+number_in_dataset_validation].copy()\n",
    "    df_test = filter_housing_df_shuffle.iloc[number_in_dataset_train+number_in_dataset_validation:].copy()\n",
    "\n",
    "    y_train = np.log1p(df_train['median_house_value'].values)\n",
    "    y_validation = np.log1p(df_validation['median_house_value'].values)\n",
    "    y_test = np.log1p(df_test['median_house_value'].values)\n",
    "    \n",
    "    X_train = prepare_X_filzero(df_train)\n",
    "    w_0, w = train_linear_regression(X_train, y_train)\n",
    "\n",
    "    X_val = prepare_X_filzero(df_validation)\n",
    "    y_pred = w_0 + X_val.dot(w)\n",
    "    scores.append(rmse(y_validation, y_pred))\n",
    "    print(f'evaluation for seed {seed}:', round(rmse(y_validation, y_pred),2))"
   ]
  },
  {
   "cell_type": "code",
   "execution_count": 154,
   "id": "630f960a-a0d1-4442-8c86-4e0070fc0534",
   "metadata": {},
   "outputs": [
    {
     "data": {
      "text/plain": [
       "0.00293"
      ]
     },
     "execution_count": 154,
     "metadata": {},
     "output_type": "execute_result"
    }
   ],
   "source": [
    "round(np.std(scores),5)"
   ]
  },
  {
   "cell_type": "markdown",
   "id": "0efa609a-8d6c-4ea4-a976-d7d03b5fb065",
   "metadata": {},
   "source": [
    "## Question 6 ##\n",
    "\n",
    "Split the dataset like previously, use seed 9.<br>\n",
    "Combine train and validation datasets.<br>\n",
    "Fill the missing values with 0 and train a model with r=0.001.<br>\n",
    "What's the RMSE on the test dataset?<br>"
   ]
  },
  {
   "cell_type": "code",
   "execution_count": 160,
   "id": "c0087bd4-e81e-48a9-8002-b4c59c8f522d",
   "metadata": {},
   "outputs": [],
   "source": [
    "number_in_dataset_validation = int(0.2 * number_in_dataset)\n",
    "number_in_dataset_test = int(0.2 * number_in_dataset)\n",
    "number_in_dataset_train = number_in_dataset  - number_in_dataset_test"
   ]
  },
  {
   "cell_type": "code",
   "execution_count": 162,
   "id": "6e9b1d3d-60b2-4a86-b1f5-6346a10b831f",
   "metadata": {},
   "outputs": [
    {
     "name": "stdout",
     "output_type": "stream",
     "text": [
      "evaluation for seed 9 with train data plus validation data: 0.113\n"
     ]
    }
   ],
   "source": [
    "np.random.seed(9)\n",
    "id_shuffle = np.arange(number_in_dataset)\n",
    "np.random.shuffle(id_shuffle)\n",
    "filter_housing_df_shuffle = filter_housing_df.iloc[id_shuffle]\n",
    "df_train = filter_housing_df_shuffle.iloc[:number_in_dataset_train].copy()\n",
    "df_validation = filter_housing_df_shuffle.iloc[number_in_dataset_train:number_in_dataset_train+number_in_dataset_validation].copy()\n",
    "df_test = filter_housing_df_shuffle.iloc[number_in_dataset_train+number_in_dataset_validation:].copy()\n",
    "\n",
    "\n",
    "\n",
    "y_train = np.log1p(df_train['median_house_value'].values)\n",
    "y_validation = np.log1p(df_validation['median_house_value'].values)\n",
    "y_test = np.log1p(df_test['median_house_value'].values)\n",
    "\n",
    "X_train = prepare_X_filzero(df_train)\n",
    "w_0, w = train_linear_regression_reg(X_train, y_train, 0.001)\n",
    "\n",
    "X_val = prepare_X_filzero(df_validation)\n",
    "y_pred = w_0 + X_val.dot(w)\n",
    "\n",
    "print(f'evaluation for seed 9 with train data plus validation data:', round(rmse(y_validation, y_pred),3))"
   ]
  },
  {
   "cell_type": "code",
   "execution_count": null,
   "id": "4c77ff63-b3cb-4dd7-88dd-f272a5f49008",
   "metadata": {},
   "outputs": [],
   "source": []
  }
 ],
 "metadata": {
  "kernelspec": {
   "display_name": "Python 3 (ipykernel)",
   "language": "python",
   "name": "python3"
  },
  "language_info": {
   "codemirror_mode": {
    "name": "ipython",
    "version": 3
   },
   "file_extension": ".py",
   "mimetype": "text/x-python",
   "name": "python",
   "nbconvert_exporter": "python",
   "pygments_lexer": "ipython3",
   "version": "3.11.5"
  }
 },
 "nbformat": 4,
 "nbformat_minor": 5
}
