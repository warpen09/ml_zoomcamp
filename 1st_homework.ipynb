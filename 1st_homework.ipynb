{
 "cells": [
  {
   "cell_type": "code",
   "execution_count": 52,
   "id": "147f476d-134c-49d2-ae41-5394ff9ae26a",
   "metadata": {},
   "outputs": [],
   "source": [
    "import os\n",
    "import pandas as pd\n",
    "import numpy as np\n",
    "import seaborn as sns\n",
    "from matplotlib import pyplot as plt\n",
    "%matplotlib inline"
   ]
  },
  {
   "cell_type": "markdown",
   "id": "08cd6db7-6963-42a1-8561-3ca5a298946a",
   "metadata": {},
   "source": [
    "## Question 1 ##\n",
    "### what version is Pandas installed ###"
   ]
  },
  {
   "cell_type": "code",
   "execution_count": 6,
   "id": "fa5198b6-cde3-4f5a-8741-d4031eda9e94",
   "metadata": {},
   "outputs": [
    {
     "data": {
      "text/plain": [
       "'2.1.0'"
      ]
     },
     "execution_count": 6,
     "metadata": {},
     "output_type": "execute_result"
    }
   ],
   "source": [
    "pd.__version__"
   ]
  },
  {
   "cell_type": "markdown",
   "id": "f5ccc88b-9816-4e64-a0ca-e8c70abe025b",
   "metadata": {},
   "source": [
    "## Question 2 ##\n",
    "### How many columns are in the dataset? ###"
   ]
  },
  {
   "cell_type": "code",
   "execution_count": 3,
   "id": "6535676f-c6a6-48c9-a5ce-c0c3bb4c47ff",
   "metadata": {},
   "outputs": [],
   "source": [
    "housing_df = pd.read_csv(\"../../data/housing.csv\")"
   ]
  },
  {
   "cell_type": "code",
   "execution_count": 7,
   "id": "483e56d7-bdbe-4b20-82e9-78b360b19f2b",
   "metadata": {},
   "outputs": [
    {
     "name": "stdout",
     "output_type": "stream",
     "text": [
      "There are 10 columns\n"
     ]
    }
   ],
   "source": [
    "print(f'There are {housing_df.shape[1]} columns')\n"
   ]
  },
  {
   "cell_type": "code",
   "execution_count": 8,
   "id": "d7906731-a25b-403b-99b1-6acea9733d5a",
   "metadata": {},
   "outputs": [
    {
     "data": {
      "text/plain": [
       "Index(['longitude', 'latitude', 'housing_median_age', 'total_rooms',\n",
       "       'total_bedrooms', 'population', 'households', 'median_income',\n",
       "       'median_house_value', 'ocean_proximity'],\n",
       "      dtype='object')"
      ]
     },
     "execution_count": 8,
     "metadata": {},
     "output_type": "execute_result"
    }
   ],
   "source": [
    "housing_df.columns"
   ]
  },
  {
   "cell_type": "markdown",
   "id": "0b71f04e-4b4f-45df-9496-21b8d4da132b",
   "metadata": {},
   "source": [
    "## Question 3 ##\n",
    "### Which columns in the dataset have missing values? ###"
   ]
  },
  {
   "cell_type": "code",
   "execution_count": 13,
   "id": "b9e9f24a-2ae4-4e85-8cdc-04959b055247",
   "metadata": {},
   "outputs": [
    {
     "name": "stdout",
     "output_type": "stream",
     "text": [
      "The 'total_bedrooms' column has missing values\n"
     ]
    }
   ],
   "source": [
    "print(f'''The '{housing_df.columns[housing_df.isna().any()][0]}' column has missing values''')"
   ]
  },
  {
   "cell_type": "markdown",
   "id": "7b1647db-007f-4c7d-9dfb-c2d570fc4bb4",
   "metadata": {},
   "source": [
    "## Question 4 ##\n",
    "### How many unique values does the ocean_proximity column have? ###"
   ]
  },
  {
   "cell_type": "code",
   "execution_count": 19,
   "id": "71795595-bb55-4b53-8e41-02fc1422bb8f",
   "metadata": {},
   "outputs": [
    {
     "data": {
      "text/plain": [
       "array(['NEAR BAY', '<1H OCEAN', 'INLAND', 'NEAR OCEAN', 'ISLAND'],\n",
       "      dtype=object)"
      ]
     },
     "execution_count": 19,
     "metadata": {},
     "output_type": "execute_result"
    }
   ],
   "source": [
    "housing_df['ocean_proximity'].unique()"
   ]
  },
  {
   "cell_type": "code",
   "execution_count": 17,
   "id": "e2990335-44cf-4674-bdb4-bc8c28af7ae9",
   "metadata": {},
   "outputs": [
    {
     "name": "stdout",
     "output_type": "stream",
     "text": [
      "There are '5' unique values in the column 'ocean_proximity' \n"
     ]
    }
   ],
   "source": [
    "print(f'''There are '{len(housing_df['ocean_proximity'].unique())}' unique values in the column 'ocean_proximity' ''')"
   ]
  },
  {
   "cell_type": "markdown",
   "id": "9c4e1b93-0e0b-4a0d-9cc9-6c68c9ddeee2",
   "metadata": {},
   "source": [
    "## Question 5 ##\n",
    "### What's the average value of the median_house_value for the houses located near the bay? ###"
   ]
  },
  {
   "cell_type": "code",
   "execution_count": 31,
   "id": "52f31d1f-ca41-49a1-883d-383cd899581a",
   "metadata": {},
   "outputs": [
    {
     "name": "stdout",
     "output_type": "stream",
     "text": [
      " $259,212.31 \n"
     ]
    }
   ],
   "source": [
    "print(f''' ${np.average(housing_df['median_house_value'][housing_df['ocean_proximity'] == 'NEAR BAY']) :,.2f} ''')"
   ]
  },
  {
   "cell_type": "markdown",
   "id": "033d41e1-c0a2-4ba0-b8e2-ff8891a305e3",
   "metadata": {},
   "source": [
    "## Question 6 ##\n",
    "### ###\n",
    "1. Calculate the average of total_bedrooms column in the dataset.\n",
    "2. Use the fillna method to fill the missing values in total_bedrooms with the mean value from the previous step.\n",
    "3. Now, calculate the average of total_bedrooms again.\n",
    "4. Has it changed?\n",
    "\n",
    "Hint: take into account only 3 digits after the decimal point.\n",
    "Yes\n",
    "No \n",
    "### ###"
   ]
  },
  {
   "cell_type": "code",
   "execution_count": 4,
   "id": "73dae69d-6855-49d8-acc2-f53e75c3ad66",
   "metadata": {
    "scrolled": true
   },
   "outputs": [
    {
     "data": {
      "text/plain": [
       "537.8705525375618"
      ]
     },
     "execution_count": 4,
     "metadata": {},
     "output_type": "execute_result"
    }
   ],
   "source": [
    "np.mean(housing_df['total_bedrooms'].apply(lambda x: pd.to_numeric(x, errors='coerce')))"
   ]
  },
  {
   "cell_type": "code",
   "execution_count": 12,
   "id": "bf7ea680-8d72-4e2b-bf92-318b9b4d3809",
   "metadata": {
    "scrolled": true
   },
   "outputs": [
    {
     "name": "stdout",
     "output_type": "stream",
     "text": [
      "The 'total_bedrooms' average is 537.8705525375618,\n",
      "taking in consideration of the missing values\n"
     ]
    }
   ],
   "source": [
    "print(f'''The 'total_bedrooms' sq ft average is {housing_df['total_bedrooms'].mean(axis=0, skipna=True)},\n",
    "taking in consideration of the missing values''')"
   ]
  },
  {
   "cell_type": "code",
   "execution_count": 14,
   "id": "0aeaa326-cb8f-4e9e-bc77-1f071f0b0b74",
   "metadata": {},
   "outputs": [
    {
     "name": "stdout",
     "output_type": "stream",
     "text": [
      "The 'total_bedrooms' sq ft average with the missing value filled with the average previously is \n",
      "537.8705525375617. \n",
      "The average did not change with or without the missing values being fill.\n"
     ]
    }
   ],
   "source": [
    "print(f'''The 'total_bedrooms' sq ft average with the missing value filled with the average previously is \n",
    "{housing_df['total_bedrooms'].fillna(housing_df['total_bedrooms'].mean(axis=0, skipna=True)).mean()}. \n",
    "The average did not change with or without the missing values being fill.''')"
   ]
  },
  {
   "cell_type": "markdown",
   "id": "0eb87f2e-c685-460e-a0bf-0d7e8cfb1475",
   "metadata": {},
   "source": [
    "## Question 7 ##\n",
    "### ###\n",
    "1. Select all the options located on islands.\n",
    "2. Select only columns housing_median_age, total_rooms, total_bedrooms.\n",
    "3. Get the underlying NumPy array. Let's call it X.\n",
    "4. Compute matrix-matrix multiplication between the transpose of X and X. To get the transpose, use X.T. Let's call the result XTX.\n",
    "5. Compute the inverse of XTX.\n",
    "6. Create an array y with values [950, 1300, 800, 1000, 1300].\n",
    "7. Multiply the inverse of XTX with the transpose of X, and then multiply the result by y. Call the result w.\n",
    "8. What's the value of the last element of w?\n",
    "\n",
    "   \n",
    "Note: You just implemented linear regression. We'll talk about it in the next lesson.\n",
    "-1.4812\n",
    "0.001\n",
    "5.6992\n",
    "23.1233\n",
    " ### ###"
   ]
  },
  {
   "cell_type": "code",
   "execution_count": 35,
   "id": "731a9d3e-5660-458f-8fdd-9c81fc576bc3",
   "metadata": {},
   "outputs": [
    {
     "data": {
      "text/html": [
       "<div>\n",
       "<style scoped>\n",
       "    .dataframe tbody tr th:only-of-type {\n",
       "        vertical-align: middle;\n",
       "    }\n",
       "\n",
       "    .dataframe tbody tr th {\n",
       "        vertical-align: top;\n",
       "    }\n",
       "\n",
       "    .dataframe thead th {\n",
       "        text-align: right;\n",
       "    }\n",
       "</style>\n",
       "<table border=\"1\" class=\"dataframe\">\n",
       "  <thead>\n",
       "    <tr style=\"text-align: right;\">\n",
       "      <th></th>\n",
       "      <th>housing_median_age</th>\n",
       "      <th>total_rooms</th>\n",
       "      <th>total_bedrooms</th>\n",
       "    </tr>\n",
       "  </thead>\n",
       "  <tbody>\n",
       "    <tr>\n",
       "      <th>8314</th>\n",
       "      <td>27.0</td>\n",
       "      <td>1675.0</td>\n",
       "      <td>521.0</td>\n",
       "    </tr>\n",
       "    <tr>\n",
       "      <th>8315</th>\n",
       "      <td>52.0</td>\n",
       "      <td>2359.0</td>\n",
       "      <td>591.0</td>\n",
       "    </tr>\n",
       "    <tr>\n",
       "      <th>8316</th>\n",
       "      <td>52.0</td>\n",
       "      <td>2127.0</td>\n",
       "      <td>512.0</td>\n",
       "    </tr>\n",
       "    <tr>\n",
       "      <th>8317</th>\n",
       "      <td>52.0</td>\n",
       "      <td>996.0</td>\n",
       "      <td>264.0</td>\n",
       "    </tr>\n",
       "    <tr>\n",
       "      <th>8318</th>\n",
       "      <td>29.0</td>\n",
       "      <td>716.0</td>\n",
       "      <td>214.0</td>\n",
       "    </tr>\n",
       "  </tbody>\n",
       "</table>\n",
       "</div>"
      ],
      "text/plain": [
       "      housing_median_age  total_rooms  total_bedrooms\n",
       "8314                27.0       1675.0           521.0\n",
       "8315                52.0       2359.0           591.0\n",
       "8316                52.0       2127.0           512.0\n",
       "8317                52.0        996.0           264.0\n",
       "8318                29.0        716.0           214.0"
      ]
     },
     "execution_count": 35,
     "metadata": {},
     "output_type": "execute_result"
    }
   ],
   "source": [
    "housing_df[['housing_median_age','total_rooms','total_bedrooms']][housing_df['ocean_proximity'] == 'ISLAND']"
   ]
  },
  {
   "cell_type": "code",
   "execution_count": 36,
   "id": "4bdf90e9-1c82-4a7b-b6b7-fbb43ed731d7",
   "metadata": {},
   "outputs": [],
   "source": [
    "X = housing_df[['housing_median_age','total_rooms','total_bedrooms']][housing_df['ocean_proximity'] == 'ISLAND'].to_numpy()"
   ]
  },
  {
   "cell_type": "code",
   "execution_count": 55,
   "id": "b8f47774-9cba-4bc4-8386-eecfdb369e09",
   "metadata": {},
   "outputs": [],
   "source": [
    "XT = X.transpose()"
   ]
  },
  {
   "cell_type": "code",
   "execution_count": 58,
   "id": "052cd8d8-5238-427b-b0f4-99d65dba5e88",
   "metadata": {},
   "outputs": [
    {
     "data": {
      "text/plain": [
       "array([[  27.,   52.,   52.,   52.,   29.],\n",
       "       [1675., 2359., 2127.,  996.,  716.],\n",
       "       [ 521.,  591.,  512.,  264.,  214.]])"
      ]
     },
     "execution_count": 58,
     "metadata": {},
     "output_type": "execute_result"
    }
   ],
   "source": [
    "XT"
   ]
  },
  {
   "cell_type": "code",
   "execution_count": 59,
   "id": "387718d7-d595-47cb-96c1-e50f33d5e8c6",
   "metadata": {},
   "outputs": [],
   "source": [
    "XTX = np.dot(XT,X)"
   ]
  },
  {
   "cell_type": "code",
   "execution_count": 42,
   "id": "bb84c3ff-18bf-4712-a241-4e21b32d25fb",
   "metadata": {},
   "outputs": [],
   "source": [
    "y = np.array([950, 1300, 800, 1000, 1300])"
   ]
  },
  {
   "cell_type": "code",
   "execution_count": 43,
   "id": "fd6e4df1-297e-4a57-a789-c61ea72c232e",
   "metadata": {},
   "outputs": [
    {
     "data": {
      "text/plain": [
       "array([ 950, 1300,  800, 1000, 1300])"
      ]
     },
     "execution_count": 43,
     "metadata": {},
     "output_type": "execute_result"
    }
   ],
   "source": [
    "y"
   ]
  },
  {
   "cell_type": "code",
   "execution_count": 60,
   "id": "425c7875-9c82-4121-8845-33dad6e77888",
   "metadata": {},
   "outputs": [],
   "source": [
    "XTX_inverse = np.linalg.inv(XTX)"
   ]
  },
  {
   "cell_type": "code",
   "execution_count": 65,
   "id": "12d4ccaf-d732-44c1-bfe7-a1eb87c5e547",
   "metadata": {},
   "outputs": [],
   "source": [
    "a = np.dot(XTX_inverse, XT)"
   ]
  },
  {
   "cell_type": "code",
   "execution_count": 68,
   "id": "3890f8ec-d07a-415e-8d6b-ced81d85a734",
   "metadata": {},
   "outputs": [
    {
     "data": {
      "text/plain": [
       "array([23.12330961, -1.48124183,  5.69922946])"
      ]
     },
     "execution_count": 68,
     "metadata": {},
     "output_type": "execute_result"
    }
   ],
   "source": [
    "w = np.dot(a, y)"
   ]
  },
  {
   "cell_type": "code",
   "execution_count": null,
   "id": "6ed936dc-ab42-4c98-abec-1df3424c54e2",
   "metadata": {},
   "outputs": [],
   "source": []
  }
 ],
 "metadata": {
  "kernelspec": {
   "display_name": "Python 3 (ipykernel)",
   "language": "python",
   "name": "python3"
  },
  "language_info": {
   "codemirror_mode": {
    "name": "ipython",
    "version": 3
   },
   "file_extension": ".py",
   "mimetype": "text/x-python",
   "name": "python",
   "nbconvert_exporter": "python",
   "pygments_lexer": "ipython3",
   "version": "3.11.5"
  }
 },
 "nbformat": 4,
 "nbformat_minor": 5
}
